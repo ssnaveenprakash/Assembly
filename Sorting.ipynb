{
  "nbformat": 4,
  "nbformat_minor": 0,
  "metadata": {
    "colab": {
      "provenance": [],
      "authorship_tag": "ABX9TyORiNOg1u6NKPNY1uTRH47O",
      "include_colab_link": true
    },
    "kernelspec": {
      "name": "python3",
      "display_name": "Python 3"
    },
    "language_info": {
      "name": "python"
    }
  },
  "cells": [
    {
      "cell_type": "markdown",
      "metadata": {
        "id": "view-in-github",
        "colab_type": "text"
      },
      "source": [
        "<a href=\"https://colab.research.google.com/github/ssnaveenprakash/Assembly/blob/main/Sorting.ipynb\" target=\"_parent\"><img src=\"https://colab.research.google.com/assets/colab-badge.svg\" alt=\"Open In Colab\"/></a>"
      ]
    },
    {
      "cell_type": "markdown",
      "source": [
        "# Sorting\n",
        "* Sorting refers to ordering data in an increasing or decreasing manner according to some **linear relationship** among the data items.\n",
        "* The opposite of sorting is called **shuffling**.\n",
        "\n",
        "## Why do we sort?\n",
        "*    To make searching faster\n",
        "*    To make merging of sequences faster\n",
        "*    To enable processing data in desired order\n",
        "\n",
        "## Terms\n",
        "*   **Key** - a property of an element by which sorting algorithm decideds the order of the elements\n",
        "\n",
        "\n",
        "## Comparator - Binary Predicate\n",
        "*    Comparator is a function which is used to compare two elements.\n",
        "*    Comparator function will compare two elements and return the result\n",
        "*    There can be three possible outcomes (**>,<,=**) when we do the comparision and comparator function can return a **binary** value indicating **>** or **<**.\n",
        "*    Because if the **two elements are same** we have to **do noting** while sorting. So We only need to care whether the elements are **>** or **<**.\n",
        "\n",
        "## Comparision\n",
        "*    If we correctly define a comparator to check **<** , we can deduce other two **>** and **==**\n",
        "*    For equality we can deduce like **!(a<b) && !(b<a)**\n",
        "*    For **>** , we can check **(b<a)**\n",
        "\n",
        "## Properties\n",
        "### Stability - Stable and Regular sorting alogirthms\n",
        "*   After sorting two elements must maintain their original relative positioning if they are equal.\n",
        "*   For example 3,**12**,1,12 after sorting should become 1,3,**12**,12 and should not become 1,3,12,**12**\n",
        "*   In stable sort the bold **12** will come before the regular 12.\n",
        "*   In stable sorting algorithms, **relative ordering** is maintained for elements which are equal.\n",
        "\n",
        "### Online - Online and Offline sorting algorithms\n",
        "*   An algorithm such as Insertion Sort that is online can sort a constant stream of inputs.\n",
        "*   Online sorting algorithms doesn't need to know all the inputs in advance.\n",
        "*   For example we can add a new element to the array , when the sorting algorithms almost done sorting.\n",
        "*   Offline sorting algorithms need to know all the inputs in **advance**.\n",
        "\n",
        "### Comparision - Comparitive and Non Comparitive sorting algorithms\n",
        "*   These sorting alogirthms needs do comparision between the elements.\n",
        "*   These sorting alogirthms doesn't needs do comparision between the elements.\n",
        "*   Non comparative algorithms use **other properties** of the element to sort the arrays\n",
        "\n",
        "### Adaptivity - Adaptive and Non Adaptive sorting algorithms\n",
        "*   A sorting algorithm is said to be adaptive if its **performance depends on the input data**. For example, if the input data is already sorted, an adaptive sorting algorithm will be able to sort it much faster than if the input data is completely random.\n",
        "\n",
        "### In-place and Out-of-place\n",
        "*   A sorting algorithm that sorts the input data in place, **without** using any **additional space**\n",
        "*   A sorting algorithm that needs to use **additional space** to store its working data.\n",
        "\n",
        "## Methods\n",
        "*   **Selection**   \n",
        "    It always selects the smallest (or largest) element from the unsorted portion and places it at the **beginning** of the sorted portion    \n",
        "    In each iteration a single element in the correct position.\n",
        "*   **Insertion**    \n",
        "    It takes each element from the unsorted portion and inserts it into its correct position in the sorted portion\n",
        "*   **Exchanging**   \n",
        "    Swapping elements\n",
        "*   **Partioning**\n",
        "*   **Merging**\n",
        "\n",
        "## Order Theory\n",
        "\n",
        "### Relations\n",
        "#### Reflexive\n",
        "* A relation is **reflexive** if every element is related to itself.   \n",
        "* **a == a**   \n",
        "#### Symmetric\n",
        "* A relation is **symmetric** if the order of the elements in each pair does not matter.   \n",
        "* if **a == b** then **b == a**      \n",
        "#### Transitive\n",
        "* A relation is **transitive** if the relation \"passes through\" and relates pairs of elements in a chain-like manner.  \n",
        "* if **a == b** and **b == c** , then **a == c**\n",
        "\n",
        "### Orders\n",
        "1.   Weak ordering\n",
        "2.   Strict Weak ordering\n",
        "3.   Partial ordering\n",
        "4.   Strict weak ordering\n",
        "\n",
        "### Rock Paper Scissor\n",
        "\n",
        "**The relationship between the elements must be in strict order or strict weak order to sort the elements properly**\n",
        "\n",
        "As we know this a famous game we play. Let's say we have an array of strings `[\"rock\", \"paper\" , \"scissor\"]`. We have to sort them by their power. Acccording to the rules of the game **Paper > Rock** , **Rock > Scissor** and **Paper < Scissor**. Here if you observe something Paper is more powerful than rock and less powerful than the scissor. Here the anomaly is with the Paper. If Paper is more powerful than the rock then how come Paper can be less powerful than the scissor. Because by definition Scissor itself is less poweful than the rock.\n",
        "\n",
        "As we can see in the below example when two people have equal age their relative ordering is maintained in the sorted output."
      ],
      "metadata": {
        "id": "PY_exdiVySUC"
      }
    },
    {
      "cell_type": "code",
      "source": [
        "from functools import total_ordering\n",
        "\n",
        "@total_ordering\n",
        "class Person:\n",
        "    def __init__(self,name,age):\n",
        "        self.name = name\n",
        "        self.age = age\n",
        "\n",
        "    def __gt__(self,other):\n",
        "        return self.age > other.age\n",
        "\n",
        "    def __eq__(self,other):\n",
        "        return self.age == other.age\n",
        "\n",
        "    def __repr__(self):\n",
        "        return self.name\n",
        "\n",
        "people = [\n",
        "    Person(\"naveen\",15),\n",
        "    Person(\"prkash\",3),\n",
        "    Person(\"kavi\",15),\n",
        "    Person(\"raj\",3),\n",
        "    Person(\"vipin\",1),\n",
        "    Person(\"wrong\",1)\n",
        "]\n",
        "\n",
        "print(\"before sorting:\",people)\n",
        "print(\"after sorting:\",sorted(people))"
      ],
      "metadata": {
        "colab": {
          "base_uri": "https://localhost:8080/"
        },
        "id": "8OuT5g52KNSg",
        "outputId": "28316deb-0afc-4074-fbcb-0fd917e8b2aa"
      },
      "execution_count": null,
      "outputs": [
        {
          "output_type": "stream",
          "name": "stdout",
          "text": [
            "before sorting: [naveen, prkash, kavi, raj, vipin, wrong]\n",
            "after sorting: [vipin, wrong, prkash, raj, naveen, kavi]\n"
          ]
        }
      ]
    },
    {
      "cell_type": "markdown",
      "source": [
        "## Inefficient selection sort\n",
        "Below you can see the code for the inefficient selection sort. Why it is inefficient? Ideally in selection sort for each iteration of the parent loop , an element will be in it's correct position. So the innerloop will start from **j+1** instead of **j**. But in our inefficient selection sort we cannot guarantee that for each iteration of the parent loop an element will be in it's correct position. Because **instead of skipping** the sorted portion of the array , we are always starting from **j = 0**. Eventhough it is inefficient it works. But we need to understand **why** it works. There are lots of nuances to the problem. When we do the swaps some interesting things happen."
      ],
      "metadata": {
        "id": "yO3wnYjfp22t"
      }
    },
    {
      "cell_type": "code",
      "source": [
        "def sorting(nums):\n",
        "    for i in range(len(nums)):\n",
        "        for j in range(len(nums)):\n",
        "            if nums[i] < nums[j]:\n",
        "                nums[i],nums[j] = nums[j],nums[i]\n",
        "            print(nums)\n",
        "        print()\n",
        "\n",
        "sorting([1,2,5,4,3])\n",
        "print()\n",
        "print()\n",
        "print()\n",
        "sorting([3,9,2,8,1])\n",
        "print()\n",
        "print()\n",
        "print()\n",
        "sorting([1,2,3,4,5])"
      ],
      "metadata": {
        "colab": {
          "base_uri": "https://localhost:8080/"
        },
        "outputId": "970f42f5-35e9-442d-d907-ceddbb22c4c0",
        "id": "yFnmW1KW0arD",
        "collapsed": true
      },
      "execution_count": null,
      "outputs": [
        {
          "output_type": "stream",
          "name": "stdout",
          "text": [
            "[1, 2, 5, 4, 3]\n",
            "[2, 1, 5, 4, 3]\n",
            "[5, 1, 2, 4, 3]\n",
            "[5, 1, 2, 4, 3]\n",
            "[5, 1, 2, 4, 3]\n",
            "\n",
            "[1, 5, 2, 4, 3]\n",
            "[1, 5, 2, 4, 3]\n",
            "[1, 5, 2, 4, 3]\n",
            "[1, 5, 2, 4, 3]\n",
            "[1, 5, 2, 4, 3]\n",
            "\n",
            "[1, 5, 2, 4, 3]\n",
            "[1, 2, 5, 4, 3]\n",
            "[1, 2, 5, 4, 3]\n",
            "[1, 2, 5, 4, 3]\n",
            "[1, 2, 5, 4, 3]\n",
            "\n",
            "[1, 2, 5, 4, 3]\n",
            "[1, 2, 5, 4, 3]\n",
            "[1, 2, 4, 5, 3]\n",
            "[1, 2, 4, 5, 3]\n",
            "[1, 2, 4, 5, 3]\n",
            "\n",
            "[1, 2, 4, 5, 3]\n",
            "[1, 2, 4, 5, 3]\n",
            "[1, 2, 3, 5, 4]\n",
            "[1, 2, 3, 4, 5]\n",
            "[1, 2, 3, 4, 5]\n",
            "\n",
            "\n",
            "\n",
            "\n",
            "[3, 9, 2, 8, 1]\n",
            "[9, 3, 2, 8, 1]\n",
            "[9, 3, 2, 8, 1]\n",
            "[9, 3, 2, 8, 1]\n",
            "[9, 3, 2, 8, 1]\n",
            "\n",
            "[3, 9, 2, 8, 1]\n",
            "[3, 9, 2, 8, 1]\n",
            "[3, 9, 2, 8, 1]\n",
            "[3, 9, 2, 8, 1]\n",
            "[3, 9, 2, 8, 1]\n",
            "\n",
            "[2, 9, 3, 8, 1]\n",
            "[2, 3, 9, 8, 1]\n",
            "[2, 3, 9, 8, 1]\n",
            "[2, 3, 9, 8, 1]\n",
            "[2, 3, 9, 8, 1]\n",
            "\n",
            "[2, 3, 9, 8, 1]\n",
            "[2, 3, 9, 8, 1]\n",
            "[2, 3, 8, 9, 1]\n",
            "[2, 3, 8, 9, 1]\n",
            "[2, 3, 8, 9, 1]\n",
            "\n",
            "[1, 3, 8, 9, 2]\n",
            "[1, 2, 8, 9, 3]\n",
            "[1, 2, 3, 9, 8]\n",
            "[1, 2, 3, 8, 9]\n",
            "[1, 2, 3, 8, 9]\n",
            "\n",
            "\n",
            "\n",
            "\n",
            "[1, 2, 3, 4, 5]\n",
            "[2, 1, 3, 4, 5]\n",
            "[3, 1, 2, 4, 5]\n",
            "[4, 1, 2, 3, 5]\n",
            "[5, 1, 2, 3, 4]\n",
            "\n",
            "[1, 5, 2, 3, 4]\n",
            "[1, 5, 2, 3, 4]\n",
            "[1, 5, 2, 3, 4]\n",
            "[1, 5, 2, 3, 4]\n",
            "[1, 5, 2, 3, 4]\n",
            "\n",
            "[1, 5, 2, 3, 4]\n",
            "[1, 2, 5, 3, 4]\n",
            "[1, 2, 5, 3, 4]\n",
            "[1, 2, 5, 3, 4]\n",
            "[1, 2, 5, 3, 4]\n",
            "\n",
            "[1, 2, 5, 3, 4]\n",
            "[1, 2, 5, 3, 4]\n",
            "[1, 2, 3, 5, 4]\n",
            "[1, 2, 3, 5, 4]\n",
            "[1, 2, 3, 5, 4]\n",
            "\n",
            "[1, 2, 3, 5, 4]\n",
            "[1, 2, 3, 5, 4]\n",
            "[1, 2, 3, 5, 4]\n",
            "[1, 2, 3, 4, 5]\n",
            "[1, 2, 3, 4, 5]\n",
            "\n"
          ]
        }
      ]
    },
    {
      "cell_type": "markdown",
      "source": [
        "### Effect of Swaps on Inefficient selection sort\n",
        "As you can see in the following code, we are optimizing the swaps and we are getting wrong output. To make the algorithm to work correctly , we need to do the swaps whenever we find a smaller element. So from this we can come to the conclusion that the code works because of swaps for now. There is some interesting things going on when we do the swaps. We have to figure out what exactly going on when we do the swaps."
      ],
      "metadata": {
        "id": "U2j33Rxv0tNI"
      }
    },
    {
      "cell_type": "code",
      "source": [
        "def sorting(nums):\n",
        "    for i in range(len(nums)):\n",
        "        temp = None\n",
        "        for j in range(len(nums)):\n",
        "            if nums[i] > nums[j] and (temp is None or nums[temp] > nums[j]):\n",
        "                temp = j\n",
        "        if temp:\n",
        "            nums[i],nums[temp] = nums[temp],nums[i]\n",
        "        print(nums)\n",
        "\n",
        "    return nums\n",
        "\n",
        "print(sorting([1,2,5,4,3]))\n",
        "print()\n",
        "print()\n",
        "print()\n",
        "print(sorting([3,9,2,8,1]))\n",
        "print()\n",
        "print()\n",
        "print()\n",
        "print(sorting([1,2,3,4,5]))"
      ],
      "metadata": {
        "colab": {
          "base_uri": "https://localhost:8080/"
        },
        "outputId": "2ae0ef47-5c80-4d5a-eacf-14540556d901",
        "id": "sN9cxdK-u0Iv"
      },
      "execution_count": null,
      "outputs": [
        {
          "output_type": "stream",
          "name": "stdout",
          "text": [
            "[1, 2, 5, 4, 3]\n",
            "[1, 2, 5, 4, 3]\n",
            "[1, 2, 5, 4, 3]\n",
            "[1, 2, 5, 4, 3]\n",
            "[1, 2, 5, 4, 3]\n",
            "[1, 2, 5, 4, 3]\n",
            "\n",
            "\n",
            "\n",
            "[1, 9, 2, 8, 3]\n",
            "[1, 9, 2, 8, 3]\n",
            "[1, 9, 2, 8, 3]\n",
            "[1, 9, 2, 8, 3]\n",
            "[1, 9, 2, 8, 3]\n",
            "[1, 9, 2, 8, 3]\n",
            "\n",
            "\n",
            "\n",
            "[1, 2, 3, 4, 5]\n",
            "[1, 2, 3, 4, 5]\n",
            "[1, 2, 3, 4, 5]\n",
            "[1, 2, 3, 4, 5]\n",
            "[1, 2, 3, 4, 5]\n",
            "[1, 2, 3, 4, 5]\n"
          ]
        }
      ]
    },
    {
      "cell_type": "markdown",
      "source": [
        "### Optimizing the number of swaps\n",
        "The following code implements a valid selection sort algorithm. But we are doing one redundant thing. We are swapping the element whenever a smaller element is found. Instead of that , we can do only once, when we find smallest element."
      ],
      "metadata": {
        "id": "0qcTbYUfw2Ef"
      }
    },
    {
      "cell_type": "code",
      "source": [
        "def sorting(nums):\n",
        "    for i in range(len(nums)):\n",
        "        for j in range(i,len(nums)):\n",
        "            if nums[i] > nums[j]:\n",
        "                nums[i],nums[j] = nums[j],nums[i]\n",
        "    return nums\n",
        "\n",
        "sorting([5,4,3,2,1,0])"
      ],
      "metadata": {
        "colab": {
          "base_uri": "https://localhost:8080/"
        },
        "id": "Pd1iEz8nyzcs",
        "outputId": "6b3319bc-04a0-4b48-9c9f-75420264c004"
      },
      "execution_count": null,
      "outputs": [
        {
          "output_type": "execute_result",
          "data": {
            "text/plain": [
              "[0, 1, 2, 3, 4, 5]"
            ]
          },
          "metadata": {},
          "execution_count": 18
        }
      ]
    },
    {
      "cell_type": "markdown",
      "source": [
        "In the below code we have optimized the swapping and we are doing it only once instead whenever we find a smaller elemenet than the current element."
      ],
      "metadata": {
        "id": "iK7vwNGSxS6-"
      }
    },
    {
      "cell_type": "code",
      "source": [
        "def sorting(nums):\n",
        "    for i in range(len(nums)):\n",
        "        temp = None\n",
        "        for j in range(i,len(nums)):\n",
        "            smaller_than_previous = temp is None or nums[temp] > nums[j]\n",
        "            if nums[i] > nums[j] and smaller_than_previous:\n",
        "                temp = j\n",
        "        if temp:\n",
        "            nums[i],nums[temp] = nums[temp],nums[i]\n",
        "\n",
        "    return nums\n",
        "\n",
        "sorting([5,4,3,2,1,0])"
      ],
      "metadata": {
        "colab": {
          "base_uri": "https://localhost:8080/"
        },
        "id": "4sw8hISKxY9T",
        "outputId": "beadfbd2-5589-43ad-e967-f86e746fb7d7"
      },
      "execution_count": null,
      "outputs": [
        {
          "output_type": "execute_result",
          "data": {
            "text/plain": [
              "[0, 1, 2, 3, 4, 5]"
            ]
          },
          "metadata": {},
          "execution_count": 1
        }
      ]
    },
    {
      "cell_type": "code",
      "source": [
        "def selection_sort(array):\n",
        "  for i in range(len(array)):\n",
        "    min_index = i\n",
        "    for j in range(i + 1, len(array)):\n",
        "      if array[j] < array[min_index]:\n",
        "        min_index = j\n",
        "    array[i], array[min_index] = array[min_index], array[i]\n",
        "  return array\n",
        "\n",
        "array = [64, 25, 12, 22, 11]\n",
        "print(selection_sort(array))"
      ],
      "metadata": {
        "colab": {
          "base_uri": "https://localhost:8080/"
        },
        "id": "UUamhz192ILA",
        "outputId": "017b110c-76a3-48f7-975b-b467c881038a"
      },
      "execution_count": null,
      "outputs": [
        {
          "output_type": "stream",
          "name": "stdout",
          "text": [
            "[11, 12, 22, 25, 64]\n"
          ]
        }
      ]
    }
  ]
}